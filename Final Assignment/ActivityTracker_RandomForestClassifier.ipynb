{
 "cells": [
  {
   "cell_type": "code",
   "execution_count": 223,
   "metadata": {},
   "outputs": [
    {
     "output_type": "error",
     "ename": "NameError",
     "evalue": "name 'de' is not defined",
     "traceback": [
      "\u001b[1;31m---------------------------------------------------------------------------\u001b[0m",
      "\u001b[1;31mNameError\u001b[0m                                 Traceback (most recent call last)",
      "\u001b[1;32m<ipython-input-223-f4cc4387d053>\u001b[0m in \u001b[0;36m<module>\u001b[1;34m\u001b[0m\n\u001b[1;32m----> 1\u001b[1;33m \u001b[0mde\u001b[0m\u001b[1;33m\u001b[0m\u001b[1;33m\u001b[0m\u001b[0m\n\u001b[0m\u001b[0;32m      2\u001b[0m \u001b[1;31m#https://www.ncbi.nlm.nih.gov/pmc/articles/PMC6023581/\u001b[0m\u001b[1;33m\u001b[0m\u001b[1;33m\u001b[0m\u001b[1;33m\u001b[0m\u001b[0m\n\u001b[0;32m      3\u001b[0m \u001b[1;31m#https://journals.sagepub.com/doi/full/10.1177/0020294018813692\u001b[0m\u001b[1;33m\u001b[0m\u001b[1;33m\u001b[0m\u001b[1;33m\u001b[0m\u001b[0m\n",
      "\u001b[1;31mNameError\u001b[0m: name 'de' is not defined"
     ]
    }
   ],
   "source": [
    "#https://www.ncbi.nlm.nih.gov/pmc/articles/PMC6023581/\n",
    "#https://journals.sagepub.com/doi/full/10.1177/0020294018813692"
   ]
  },
  {
   "cell_type": "code",
   "execution_count": 203,
   "metadata": {},
   "outputs": [],
   "source": [
    "import pandas as pd\n",
    "import numpy as np\n",
    "import datetime as dt\n",
    "import timeit\n",
    "from numpy.fft import fft, fftfreq, ifft\n",
    "from scipy.signal import welch\n",
    "\n",
    "\n",
    "from sklearn.model_selection import cross_val_score, train_test_split\n",
    "from sklearn.ensemble import RandomForestClassifier\n",
    "from sklearn.preprocessing import StandardScaler\n",
    "from sklearn.decomposition import PCA\n",
    "\n",
    "from sklearn import preprocessing\n",
    "from sklearn.model_selection import GridSearchCV\n",
    "from sklearn.feature_selection import VarianceThreshold\n",
    "from sklearn.decomposition import PCA\n",
    "\n",
    "import matplotlib.pyplot as plt\n",
    "\n",
    "import warnings\n",
    "warnings.filterwarnings(\"ignore\")\n"
   ]
  },
  {
   "cell_type": "code",
   "execution_count": 204,
   "metadata": {},
   "outputs": [],
   "source": [
    "#initialise start timer\n",
    "start = timeit.default_timer()\n",
    "\n",
    "#read in files as DFs\n",
    "tr_time = pd.read_csv(\"train_time_series.csv\")\n",
    "tr_lab = pd.read_csv(\"train_labels.csv\")"
   ]
  },
  {
   "cell_type": "code",
   "execution_count": 205,
   "metadata": {},
   "outputs": [],
   "source": [
    "#Change DF columns\n",
    "tr_time = tr_time.drop(columns = [\"accuracy\", \"UTC time\", \"timestamp\"]).rename(columns = {\"Unnamed: 0\":\"measurement\"})\n",
    "tr_lab = tr_lab.rename(columns = {\"Unnamed: 0\":\"measurement\"}).drop(columns = [\"UTC time\", \"timestamp\"])"
   ]
  },
  {
   "cell_type": "code",
   "execution_count": 206,
   "metadata": {},
   "outputs": [],
   "source": [
    "def accel_mag(accels):\n",
    "    \"\"\"takes an array containing x,y,z accelerations, calculates their magnitude\"\"\"\n",
    "    return np.sqrt(np.sum(accels**2))\n",
    "\n",
    "def rotation(a):\n",
    "    \"\"\"for roll use a=y, b=z; for pitch use a=x, b=z; for yaw use a=y, b=x\"\"\"\n",
    "    return np.arctan(a)\n",
    "\n",
    "#mean freq ignores the large peak inthe\n",
    "def mean_freq(fft_vals, fft_freqs):\n",
    "    \"\"\"Calculates  the mean frequency of fourier transformed data\"\"\"\n",
    "    return sum(fft_freqs[1 : int(len(fft_vals)/2+1)]*fft_vals[1 : int(len(fft_vals)/2+1)])/(sum(fft_vals[1 : int(len(fft_vals)/2+1)]))"
   ]
  },
  {
   "cell_type": "code",
   "execution_count": 207,
   "metadata": {},
   "outputs": [],
   "source": [
    "#set sampling and calculate sampling rate for FFT\n",
    "samp_int = 0.1 #in seconds\n",
    "samp_rate = 1/samp_int #in hz or per sec\n"
   ]
  },
  {
   "cell_type": "code",
   "execution_count": 208,
   "metadata": {},
   "outputs": [],
   "source": [
    "def calculate_features(time_df, label_df):\n",
    "    \"\"\"Takes in the time series and labelled data and calculates features used for machine learning analysis\"\"\"\n",
    "    #overlapping windows of ~50%\n",
    "    #skip 1st value and last value, because of insufficient surrounding data.\n",
    "\n",
    "    previous = time_df.measurement[0]\n",
    "\n",
    "    for i in label_df.measurement:\n",
    "        boolinds = pd.Series((time_df.measurement.values <= (i + 9)) & (time_df.measurement.values > previous))\n",
    "        frame = time_df[boolinds.values]\n",
    "        \n",
    "        #calculate magnitude of acceleration and variation of acceleration for the step - maybe delete later    \n",
    "        accels = frame.loc[:,(\"x\",\"y\",\"z\")]\n",
    "        mags = accels.apply(accel_mag, axis=\"columns\")\n",
    "        \n",
    "        \n",
    "        #calculate rolls, pitch, yaws\n",
    "        rolls = rotation([accels.y, accels.z])\n",
    "        pitches = rotation([accels.x, accels.z])\n",
    "        yaws = rotation([accels.y, accels.x])\n",
    "        \n",
    "        #mean mag\n",
    "        label_df.loc[label_df.measurement == i, \"mean_accel_mag\"] = np.mean(mags)\n",
    "        #SD mag\n",
    "        label_df.loc[label_df.measurement == i, \"SD_mag\"] = np.std(mags)\n",
    "        #mag var\n",
    "        label_df.loc[label_df.measurement == i, \"var_mag\"] = np.var(mags)\n",
    "        #Coeff of Variation / Relative SD\n",
    "        label_df.loc[label_df.measurement == i, \"RSD_mag\"] = np.std(mags)/np.mean(mags)\n",
    "        #mag min\n",
    "        label_df.loc[label_df.measurement == i, \"min_mag\"] = np.amin(mags)\n",
    "        #mag max\n",
    "        label_df.loc[label_df.measurement == i, \"max_mag\"] = np.amax(mags)\n",
    "        # mag 25, 50, 75 percentile\n",
    "        label_df.loc[label_df.measurement == i, \"per_25_mag\"] = np.percentile(mags,25)\n",
    "        label_df.loc[label_df.measurement == i, \"per_50_mag\"] = np.percentile(mags,50)\n",
    "        label_df.loc[label_df.measurement == i, \"per_75_mag\"] = np.percentile(mags,75)\n",
    "        #mean rotations\n",
    "        label_df.loc[label_df.measurement == i, \"mean_roll\"] = np.mean(rolls)\n",
    "        label_df.loc[label_df.measurement == i, \"mean_pitch\"] = np.mean(pitches)\n",
    "        label_df.loc[label_df.measurement == i, \"mean_yaw\"] = np.mean(yaws)\n",
    "        #SD rotations\n",
    "        label_df.loc[label_df.measurement == i, \"SD_roll\"] = np.std(rolls)\n",
    "        label_df.loc[label_df.measurement == i, \"SD_pitch\"] = np.std(pitches)\n",
    "        label_df.loc[label_df.measurement == i, \"SD_yaw\"] = np.std(yaws)\n",
    "\n",
    "        #Fourier transform each step\n",
    "        n = len(mags)\n",
    "        mags_windowed = np.hanning(len(mags))*mags\n",
    "        f = np.linspace(0, samp_rate, n)\n",
    "        fft_vals = np.abs(fft(mags_windowed))\n",
    "        label_df.loc[label_df.measurement == i, \"mean_freq\"] = mean_freq(fft_vals,f)\n",
    "        label_df.loc[label_df.measurement == i, \"max_intensity\"] = np.max(fft_vals[1:])\n",
    "\n",
    "        #calculate power spectrum density \n",
    "        f, psd = welch(mags, fs=samp_rate)\n",
    "        #find index corresponding to max power between 0.3 and 0.8Hz\n",
    "        #find max p\n",
    "        label_df.loc[label_df.measurement == i, \"max_power\"] = np.max(psd[(f > 0.3) & (psd < 0.8)])\n",
    "        #find frequency of max power\n",
    "        label_df.loc[label_df.measurement == i, \"max_p_freq\"] = f[np.argmax(psd)]\n",
    "        #total power in signal\n",
    "        label_df.loc[label_df.measurement == i, \"power\"] = np.trapz(psd, f) \n",
    "\n",
    "        previous = i\n",
    "    return label_df"
   ]
  },
  {
   "cell_type": "code",
   "execution_count": 209,
   "metadata": {},
   "outputs": [],
   "source": [
    "#calculate features in the traianing data\n",
    "calculate_features(tr_time, tr_lab)\n",
    "#drop unused labelled data.\n",
    "tr_lab = tr_lab.drop([tr_lab.index[0], tr_lab.index[len(tr_lab) - 1]])"
   ]
  },
  {
   "cell_type": "code",
   "execution_count": 210,
   "metadata": {},
   "outputs": [],
   "source": [
    "covariates = tr_lab.drop(columns = ['measurement', 'label']).columns\n",
    "\n",
    "y_train = tr_lab['label']\n",
    "X_train = tr_lab[covariates]"
   ]
  },
  {
   "cell_type": "code",
   "execution_count": 211,
   "metadata": {},
   "outputs": [],
   "source": [
    "#Determine best set of hyperparameters for a RFC on this dataset\n",
    "rfc = RandomForestClassifier()\n",
    "\n",
    "parameters = {\n",
    "    \"n_estimators\":[5,10,50,100,250],\n",
    "    \"max_depth\":[2,4,8,16,32,None]   \n",
    "}\n",
    "\n",
    "cv = GridSearchCV(rfc,parameters,cv=10)\n",
    "cv.fit(X_train, y_train)\n",
    "best_params = cv.best_params_ "
   ]
  },
  {
   "cell_type": "code",
   "execution_count": 212,
   "metadata": {},
   "outputs": [
    {
     "output_type": "execute_result",
     "data": {
      "text/plain": [
       "RandomForestClassifier(max_depth=8, n_estimators=250)"
      ]
     },
     "metadata": {},
     "execution_count": 212
    }
   ],
   "source": [
    "#initialise random forest model with best hyperparameters and train\n",
    "rfc = RandomForestClassifier(max_depth = best_params['max_depth'], n_estimators = best_params['n_estimators'])\n",
    "rfc.fit(X_train, y_train)"
   ]
  },
  {
   "cell_type": "code",
   "execution_count": 213,
   "metadata": {},
   "outputs": [
    {
     "output_type": "stream",
     "name": "stdout",
     "text": [
      "The RFC has an accuraccy of approximately: 0.7532612612612614\n"
     ]
    }
   ],
   "source": [
    "accuraccy = np.mean(cross_val_score(rfc,X_train, y_train, cv=5))\n",
    "print(f\"The RFC has an accuraccy of approximately: {accuraccy}\")"
   ]
  },
  {
   "cell_type": "code",
   "execution_count": 214,
   "metadata": {},
   "outputs": [],
   "source": [
    "#The RFC is now trained. "
   ]
  },
  {
   "cell_type": "code",
   "execution_count": 215,
   "metadata": {},
   "outputs": [],
   "source": [
    "#read in files as DFs\n",
    "te_time = pd.read_csv(\"test_time_series.csv\")\n",
    "te_lab = pd.read_csv(\"test_labels.csv\")"
   ]
  },
  {
   "cell_type": "code",
   "execution_count": 216,
   "metadata": {},
   "outputs": [],
   "source": [
    "#change test data \n",
    "te_time = te_time.drop(columns = [\"accuracy\", \"UTC time\", \"timestamp\"]).rename(columns = {\"Unnamed: 0\":\"measurement\"})\n",
    "te_lab = te_lab.rename(columns = {\"Unnamed: 0\":\"measurement\"}).drop(columns = [\"UTC time\", \"timestamp\"])"
   ]
  },
  {
   "cell_type": "code",
   "execution_count": 217,
   "metadata": {},
   "outputs": [
    {
     "output_type": "execute_result",
     "data": {
      "text/plain": [
       "     mean_accel_mag    SD_mag   var_mag   RSD_mag   min_mag   max_mag  \\\n",
       "0          1.050928  0.507928  0.257991  0.483314  0.310324  2.702354   \n",
       "1          1.069435  0.524165  0.274749  0.490132  0.291176  2.702354   \n",
       "2          1.043749  0.300503  0.090302  0.287907  0.291176  1.380144   \n",
       "3          1.088787  0.360690  0.130097  0.331276  0.355175  2.161288   \n",
       "4          1.040534  0.341633  0.116713  0.328324  0.355175  2.161288   \n",
       "..              ...       ...       ...       ...       ...       ...   \n",
       "120        1.190278  0.460750  0.212291  0.387095  0.255789  2.507202   \n",
       "121        1.377015  0.817359  0.668076  0.593573  0.300963  4.099950   \n",
       "122        1.252640  0.845256  0.714457  0.674780  0.300963  4.099950   \n",
       "123        1.061209  0.472317  0.223084  0.445075  0.339535  2.008265   \n",
       "124        1.010169  0.420126  0.176506  0.415897  0.339535  1.657998   \n",
       "\n",
       "     per_25_mag  per_50_mag  per_75_mag  mean_roll  mean_pitch  mean_yaw  \\\n",
       "0      0.832883    1.042505    1.233758  -0.259721    0.221563 -0.217013   \n",
       "1      0.889090    1.179666    1.277415  -0.287569    0.209458 -0.217684   \n",
       "2      0.914435    1.162418    1.215965  -0.325588    0.174246 -0.241392   \n",
       "3      0.914435    1.061572    1.204882  -0.290932    0.197818 -0.244853   \n",
       "4      0.902923    1.006377    1.098176  -0.295644    0.155349 -0.265543   \n",
       "..          ...         ...         ...        ...         ...       ...   \n",
       "120    0.891365    1.161030    1.338375  -0.408058    0.047849 -0.321779   \n",
       "121    0.891365    1.224534    1.350859  -0.342135    0.146272 -0.320339   \n",
       "122    0.828172    0.953782    1.266122  -0.340187    0.112632 -0.273298   \n",
       "123    0.828172    0.953782    1.262206  -0.340109    0.037013 -0.274712   \n",
       "124    0.778639    1.056068    1.253030  -0.264733    0.065703 -0.289698   \n",
       "\n",
       "      SD_roll  SD_pitch    SD_yaw  mean_freq  max_intensity  max_power  \\\n",
       "0    0.497047  0.230338  0.537962   1.676593       5.205213   0.039964   \n",
       "1    0.492570  0.211406  0.550688   2.443980       5.601576   0.128695   \n",
       "2    0.456209  0.177818  0.533945   1.827619       3.940700   0.083467   \n",
       "3    0.494256  0.253236  0.531009   1.709890       4.935070   0.144780   \n",
       "4    0.475805  0.271762  0.499654   1.178035       4.850812   0.009121   \n",
       "..        ...       ...       ...        ...            ...        ...   \n",
       "120  0.453211  0.363637  0.548692   2.401213       5.882671   0.203097   \n",
       "121  0.566346  0.417421  0.601219   2.360387       6.668274   0.409910   \n",
       "122  0.519710  0.432016  0.573834   1.859420       5.491404   0.182841   \n",
       "123  0.464062  0.363181  0.493115   1.690967       5.846705   0.091020   \n",
       "124  0.501014  0.300000  0.451560   3.007930       1.542490   0.071954   \n",
       "\n",
       "     max_p_freq     power  \n",
       "0      1.666667  0.059783  \n",
       "1      3.684211  0.318193  \n",
       "2      2.105263  0.150836  \n",
       "3      1.578947  0.238561  \n",
       "4      1.052632  0.013191  \n",
       "..          ...       ...  \n",
       "120    3.157895  0.414663  \n",
       "121    2.105263  0.991190  \n",
       "122    1.578947  0.234408  \n",
       "123    1.578947  0.119500  \n",
       "124    1.000000  0.203211  \n",
       "\n",
       "[125 rows x 20 columns]"
      ],
      "text/html": "<div>\n<style scoped>\n    .dataframe tbody tr th:only-of-type {\n        vertical-align: middle;\n    }\n\n    .dataframe tbody tr th {\n        vertical-align: top;\n    }\n\n    .dataframe thead th {\n        text-align: right;\n    }\n</style>\n<table border=\"1\" class=\"dataframe\">\n  <thead>\n    <tr style=\"text-align: right;\">\n      <th></th>\n      <th>mean_accel_mag</th>\n      <th>SD_mag</th>\n      <th>var_mag</th>\n      <th>RSD_mag</th>\n      <th>min_mag</th>\n      <th>max_mag</th>\n      <th>per_25_mag</th>\n      <th>per_50_mag</th>\n      <th>per_75_mag</th>\n      <th>mean_roll</th>\n      <th>mean_pitch</th>\n      <th>mean_yaw</th>\n      <th>SD_roll</th>\n      <th>SD_pitch</th>\n      <th>SD_yaw</th>\n      <th>mean_freq</th>\n      <th>max_intensity</th>\n      <th>max_power</th>\n      <th>max_p_freq</th>\n      <th>power</th>\n    </tr>\n  </thead>\n  <tbody>\n    <tr>\n      <th>0</th>\n      <td>1.050928</td>\n      <td>0.507928</td>\n      <td>0.257991</td>\n      <td>0.483314</td>\n      <td>0.310324</td>\n      <td>2.702354</td>\n      <td>0.832883</td>\n      <td>1.042505</td>\n      <td>1.233758</td>\n      <td>-0.259721</td>\n      <td>0.221563</td>\n      <td>-0.217013</td>\n      <td>0.497047</td>\n      <td>0.230338</td>\n      <td>0.537962</td>\n      <td>1.676593</td>\n      <td>5.205213</td>\n      <td>0.039964</td>\n      <td>1.666667</td>\n      <td>0.059783</td>\n    </tr>\n    <tr>\n      <th>1</th>\n      <td>1.069435</td>\n      <td>0.524165</td>\n      <td>0.274749</td>\n      <td>0.490132</td>\n      <td>0.291176</td>\n      <td>2.702354</td>\n      <td>0.889090</td>\n      <td>1.179666</td>\n      <td>1.277415</td>\n      <td>-0.287569</td>\n      <td>0.209458</td>\n      <td>-0.217684</td>\n      <td>0.492570</td>\n      <td>0.211406</td>\n      <td>0.550688</td>\n      <td>2.443980</td>\n      <td>5.601576</td>\n      <td>0.128695</td>\n      <td>3.684211</td>\n      <td>0.318193</td>\n    </tr>\n    <tr>\n      <th>2</th>\n      <td>1.043749</td>\n      <td>0.300503</td>\n      <td>0.090302</td>\n      <td>0.287907</td>\n      <td>0.291176</td>\n      <td>1.380144</td>\n      <td>0.914435</td>\n      <td>1.162418</td>\n      <td>1.215965</td>\n      <td>-0.325588</td>\n      <td>0.174246</td>\n      <td>-0.241392</td>\n      <td>0.456209</td>\n      <td>0.177818</td>\n      <td>0.533945</td>\n      <td>1.827619</td>\n      <td>3.940700</td>\n      <td>0.083467</td>\n      <td>2.105263</td>\n      <td>0.150836</td>\n    </tr>\n    <tr>\n      <th>3</th>\n      <td>1.088787</td>\n      <td>0.360690</td>\n      <td>0.130097</td>\n      <td>0.331276</td>\n      <td>0.355175</td>\n      <td>2.161288</td>\n      <td>0.914435</td>\n      <td>1.061572</td>\n      <td>1.204882</td>\n      <td>-0.290932</td>\n      <td>0.197818</td>\n      <td>-0.244853</td>\n      <td>0.494256</td>\n      <td>0.253236</td>\n      <td>0.531009</td>\n      <td>1.709890</td>\n      <td>4.935070</td>\n      <td>0.144780</td>\n      <td>1.578947</td>\n      <td>0.238561</td>\n    </tr>\n    <tr>\n      <th>4</th>\n      <td>1.040534</td>\n      <td>0.341633</td>\n      <td>0.116713</td>\n      <td>0.328324</td>\n      <td>0.355175</td>\n      <td>2.161288</td>\n      <td>0.902923</td>\n      <td>1.006377</td>\n      <td>1.098176</td>\n      <td>-0.295644</td>\n      <td>0.155349</td>\n      <td>-0.265543</td>\n      <td>0.475805</td>\n      <td>0.271762</td>\n      <td>0.499654</td>\n      <td>1.178035</td>\n      <td>4.850812</td>\n      <td>0.009121</td>\n      <td>1.052632</td>\n      <td>0.013191</td>\n    </tr>\n    <tr>\n      <th>...</th>\n      <td>...</td>\n      <td>...</td>\n      <td>...</td>\n      <td>...</td>\n      <td>...</td>\n      <td>...</td>\n      <td>...</td>\n      <td>...</td>\n      <td>...</td>\n      <td>...</td>\n      <td>...</td>\n      <td>...</td>\n      <td>...</td>\n      <td>...</td>\n      <td>...</td>\n      <td>...</td>\n      <td>...</td>\n      <td>...</td>\n      <td>...</td>\n      <td>...</td>\n    </tr>\n    <tr>\n      <th>120</th>\n      <td>1.190278</td>\n      <td>0.460750</td>\n      <td>0.212291</td>\n      <td>0.387095</td>\n      <td>0.255789</td>\n      <td>2.507202</td>\n      <td>0.891365</td>\n      <td>1.161030</td>\n      <td>1.338375</td>\n      <td>-0.408058</td>\n      <td>0.047849</td>\n      <td>-0.321779</td>\n      <td>0.453211</td>\n      <td>0.363637</td>\n      <td>0.548692</td>\n      <td>2.401213</td>\n      <td>5.882671</td>\n      <td>0.203097</td>\n      <td>3.157895</td>\n      <td>0.414663</td>\n    </tr>\n    <tr>\n      <th>121</th>\n      <td>1.377015</td>\n      <td>0.817359</td>\n      <td>0.668076</td>\n      <td>0.593573</td>\n      <td>0.300963</td>\n      <td>4.099950</td>\n      <td>0.891365</td>\n      <td>1.224534</td>\n      <td>1.350859</td>\n      <td>-0.342135</td>\n      <td>0.146272</td>\n      <td>-0.320339</td>\n      <td>0.566346</td>\n      <td>0.417421</td>\n      <td>0.601219</td>\n      <td>2.360387</td>\n      <td>6.668274</td>\n      <td>0.409910</td>\n      <td>2.105263</td>\n      <td>0.991190</td>\n    </tr>\n    <tr>\n      <th>122</th>\n      <td>1.252640</td>\n      <td>0.845256</td>\n      <td>0.714457</td>\n      <td>0.674780</td>\n      <td>0.300963</td>\n      <td>4.099950</td>\n      <td>0.828172</td>\n      <td>0.953782</td>\n      <td>1.266122</td>\n      <td>-0.340187</td>\n      <td>0.112632</td>\n      <td>-0.273298</td>\n      <td>0.519710</td>\n      <td>0.432016</td>\n      <td>0.573834</td>\n      <td>1.859420</td>\n      <td>5.491404</td>\n      <td>0.182841</td>\n      <td>1.578947</td>\n      <td>0.234408</td>\n    </tr>\n    <tr>\n      <th>123</th>\n      <td>1.061209</td>\n      <td>0.472317</td>\n      <td>0.223084</td>\n      <td>0.445075</td>\n      <td>0.339535</td>\n      <td>2.008265</td>\n      <td>0.828172</td>\n      <td>0.953782</td>\n      <td>1.262206</td>\n      <td>-0.340109</td>\n      <td>0.037013</td>\n      <td>-0.274712</td>\n      <td>0.464062</td>\n      <td>0.363181</td>\n      <td>0.493115</td>\n      <td>1.690967</td>\n      <td>5.846705</td>\n      <td>0.091020</td>\n      <td>1.578947</td>\n      <td>0.119500</td>\n    </tr>\n    <tr>\n      <th>124</th>\n      <td>1.010169</td>\n      <td>0.420126</td>\n      <td>0.176506</td>\n      <td>0.415897</td>\n      <td>0.339535</td>\n      <td>1.657998</td>\n      <td>0.778639</td>\n      <td>1.056068</td>\n      <td>1.253030</td>\n      <td>-0.264733</td>\n      <td>0.065703</td>\n      <td>-0.289698</td>\n      <td>0.501014</td>\n      <td>0.300000</td>\n      <td>0.451560</td>\n      <td>3.007930</td>\n      <td>1.542490</td>\n      <td>0.071954</td>\n      <td>1.000000</td>\n      <td>0.203211</td>\n    </tr>\n  </tbody>\n</table>\n<p>125 rows × 20 columns</p>\n</div>"
     },
     "metadata": {},
     "execution_count": 217
    }
   ],
   "source": [
    "# calculate features for classification of test data\n",
    "features = calculate_features(te_time, te_lab).drop(columns = ['measurement', 'label'])\n",
    "features"
   ]
  },
  {
   "cell_type": "code",
   "execution_count": 218,
   "metadata": {},
   "outputs": [],
   "source": [
    "predictions = rfc.predict(features)"
   ]
  },
  {
   "cell_type": "code",
   "execution_count": 219,
   "metadata": {},
   "outputs": [],
   "source": [
    "test_labels_done = pd.read_csv('test_labels.csv')\n",
    "test_labels_done.label = predictions"
   ]
  },
  {
   "cell_type": "code",
   "execution_count": 220,
   "metadata": {},
   "outputs": [],
   "source": [
    "test_labels_done.to_csv('test_labels_done.csv' ,index=False)"
   ]
  },
  {
   "cell_type": "code",
   "execution_count": 221,
   "metadata": {},
   "outputs": [
    {
     "output_type": "stream",
     "name": "stdout",
     "text": [
      "Total run time: 112.73216719999618\n"
     ]
    }
   ],
   "source": [
    "#finish timer\n",
    "finish = timeit.default_timer()\n",
    "run_time = finish - start\n",
    "print(f\"Total run time: {run_time}\")"
   ]
  },
  {
   "cell_type": "code",
   "execution_count": 222,
   "metadata": {},
   "outputs": [
    {
     "output_type": "execute_result",
     "data": {
      "text/plain": [
       "array([4, 4, 4, 4, 3, 2, 4, 3, 2, 4, 4, 3, 2, 2, 4, 4, 4, 4, 4, 4, 4, 4,\n",
       "       2, 4, 4, 4, 4, 4, 4, 4, 2, 2, 2, 2, 1, 1, 1, 1, 1, 1, 1, 1, 1, 1,\n",
       "       1, 1, 1, 1, 1, 1, 1, 1, 1, 2, 2, 3, 3, 4, 4, 3, 3, 4, 2, 2, 3, 3,\n",
       "       3, 3, 3, 3, 2, 2, 2, 3, 3, 3, 3, 3, 3, 2, 2, 2, 3, 3, 3, 3, 3, 3,\n",
       "       2, 2, 2, 2, 2, 2, 2, 2, 2, 2, 2, 2, 2, 2, 2, 2, 2, 2, 2, 2, 2, 2,\n",
       "       2, 2, 2, 2, 2, 2, 2, 2, 2, 2, 2, 2, 2, 2, 2], dtype=int64)"
      ]
     },
     "metadata": {},
     "execution_count": 222
    }
   ],
   "source": [
    "predictions"
   ]
  },
  {
   "cell_type": "code",
   "execution_count": null,
   "metadata": {},
   "outputs": [],
   "source": []
  }
 ],
 "metadata": {
  "kernelspec": {
   "display_name": "Python 3",
   "language": "python",
   "name": "python3"
  },
  "language_info": {
   "codemirror_mode": {
    "name": "ipython",
    "version": 3
   },
   "file_extension": ".py",
   "mimetype": "text/x-python",
   "name": "python",
   "nbconvert_exporter": "python",
   "pygments_lexer": "ipython3",
   "version": "3.8.3-final"
  }
 },
 "nbformat": 4,
 "nbformat_minor": 4
}