{
 "cells": [
  {
   "cell_type": "code",
   "execution_count": 2,
   "metadata": {},
   "outputs": [],
   "source": [
    "#https://www.ncbi.nlm.nih.gov/pmc/articles/PMC6023581/\n",
    "#https://journals.sagepub.com/doi/full/10.1177/0020294018813692"
   ]
  },
  {
   "cell_type": "code",
   "execution_count": 3,
   "metadata": {},
   "outputs": [],
   "source": [
    "import pandas as pd\n",
    "import numpy as np\n",
    "import datetime as dt\n",
    "import timeit\n",
    "from numpy.fft import fft, fftfreq, ifft\n",
    "from scipy.signal import welch\n",
    "\n",
    "\n",
    "from sklearn.model_selection import cross_val_score, train_test_split\n",
    "from sklearn.ensemble import RandomForestClassifier\n",
    "from sklearn.preprocessing import StandardScaler\n",
    "from sklearn.decomposition import PCA\n",
    "\n",
    "from sklearn import preprocessing\n",
    "from sklearn.model_selection import GridSearchCV\n",
    "from sklearn.feature_selection import VarianceThreshold\n",
    "from sklearn.decomposition import PCA\n",
    "\n",
    "import matplotlib.pyplot as plt\n",
    "\n",
    "import warnings\n",
    "warnings.filterwarnings(\"ignore\")\n"
   ]
  },
  {
   "cell_type": "code",
   "execution_count": 4,
   "metadata": {},
   "outputs": [],
   "source": [
    "#initialise start timer\n",
    "start = timeit.default_timer()\n",
    "\n",
    "#read in files as DFs\n",
    "tr_time = pd.read_csv(\"train_time_series.csv\")\n",
    "tr_lab = pd.read_csv(\"train_labels.csv\")"
   ]
  },
  {
   "cell_type": "code",
   "execution_count": 5,
   "metadata": {},
   "outputs": [],
   "source": [
    "#Change DF columns\n",
    "tr_time = tr_time.drop(columns = [\"accuracy\", \"UTC time\", \"timestamp\"]).rename(columns = {\"Unnamed: 0\":\"measurement\"})\n",
    "tr_lab = pd.read_csv(\"train_labels.csv\").rename(columns = {\"Unnamed: 0\":\"measurement\"}).drop(columns = [\"UTC time\", \"timestamp\"])"
   ]
  },
  {
   "cell_type": "code",
   "execution_count": 6,
   "metadata": {},
   "outputs": [],
   "source": [
    "def accel_mag(accels):\n",
    "    \"\"\"takes an array containing x,y,z accelerations, calculates their magnitude\"\"\"\n",
    "    return np.sqrt(np.sum(accels**2))\n",
    "\n",
    "def rotation(a):\n",
    "    \"\"\"for roll use a=y, b=z; for pitch use a=x, b=z; for yaw use a=y, b=x\"\"\"\n",
    "    return np.arctan(a)\n",
    "\n",
    "#mean freq ignores the large peak inthe\n",
    "def mean_freq(fft_vals, fft_freqs):\n",
    "    \"\"\"Calculates  the mean frequency of fourier transformed data\"\"\"\n",
    "    return sum(fft_freqs[1 : int(len(fft_vals)/2+1)]*fft_vals[1 : int(len(fft_vals)/2+1)])/(sum(fft_vals[1 : int(len(fft_vals)/2+1)]))"
   ]
  },
  {
   "cell_type": "code",
   "execution_count": 7,
   "metadata": {},
   "outputs": [],
   "source": [
    "#set sampling and calculate sampling rate for FFT\n",
    "samp_int = 0.1 #in seconds\n",
    "samp_rate = 1/samp_int #in hz or per sec\n"
   ]
  },
  {
   "cell_type": "code",
   "execution_count": 31,
   "metadata": {},
   "outputs": [],
   "source": [
    "def calculate_features(tr_time, tr_lab):\n",
    "    \"\"\"Takes in the time series and labelled data and calculates features used for machine learning analysis\"\"\"\n",
    "#overlapping windows of ~50%\n",
    "#skip 1st value and last value, because of insufficient surrounding data.\n",
    "for i in tr_lab.measurement[1:374]:\n",
    "    boolinds = pd.Series((tr_time.measurement.values <= (i + 9)) & (tr_time.measurement.values > previous))\n",
    "    frame = tr_time[boolinds.values]\n",
    "    \n",
    "    #calculate magnitude of acceleration and variation of acceleration for the step - maybe delete later    \n",
    "    accels = frame.loc[:,(\"x\",\"y\",\"z\")]\n",
    "    mags = accels.apply(accel_mag, axis=\"columns\")\n",
    "    \n",
    "    \n",
    "    #calculate rolls, pitch, yaws\n",
    "    rolls = rotation([accels.y, accels.z])\n",
    "    pitches = rotation([accels.x, accels.z])\n",
    "    yaws = rotation([accels.y, accels.x])\n",
    "    \n",
    "    #mean mag\n",
    "    tr_lab.loc[tr_lab.measurement == i, \"mean_accel_mag\"] = np.mean(mags)\n",
    "    #SD mag\n",
    "    tr_lab.loc[tr_lab.measurement == i, \"SD_mag\"] = np.std(mags)\n",
    "    #mag var\n",
    "    tr_lab.loc[tr_lab.measurement == i, \"var_mag\"] = np.var(mags)\n",
    "    #Coeff of Variation / Relative SD\n",
    "    tr_lab.loc[tr_lab.measurement == i, \"RSD_mag\"] = np.std(mags)/np.mean(mags)\n",
    "    #mag min\n",
    "    tr_lab.loc[tr_lab.measurement == i, \"min_mag\"] = np.amin(mags)\n",
    "    #mag max\n",
    "    tr_lab.loc[tr_lab.measurement == i, \"max_mag\"] = np.amax(mags)\n",
    "    # mag 25, 50, 75 percentile\n",
    "    tr_lab.loc[tr_lab.measurement == i, \"per_25_mag\"] = np.percentile(mags,25)\n",
    "    tr_lab.loc[tr_lab.measurement == i, \"per_50_mag\"] = np.percentile(mags,50)\n",
    "    tr_lab.loc[tr_lab.measurement == i, \"per_75_mag\"] = np.percentile(mags,75)\n",
    "    #mean rotations\n",
    "    tr_lab.loc[tr_lab.measurement == i, \"mean_roll\"] = np.mean(rolls)\n",
    "    tr_lab.loc[tr_lab.measurement == i, \"mean_pitch\"] = np.mean(pitches)\n",
    "    tr_lab.loc[tr_lab.measurement == i, \"mean_yaw\"] = np.mean(yaws)\n",
    "    #SD rotations\n",
    "    tr_lab.loc[tr_lab.measurement == i, \"SD_roll\"] = np.std(rolls)\n",
    "    tr_lab.loc[tr_lab.measurement == i, \"SD_pitch\"] = np.std(pitches)\n",
    "    tr_lab.loc[tr_lab.measurement == i, \"SD_yaw\"] = np.std(yaws)\n",
    "\n",
    "    #Fourier transform each step\n",
    "    n = len(mags)\n",
    "    mags_windowed = np.hanning(len(mags))*mags\n",
    "    f = np.linspace(0, samp_rate, n)\n",
    "    fft_vals = np.abs(fft(mags_windowed))\n",
    "    tr_lab.loc[tr_lab.measurement == i, \"mean_freq\"] = mean_freq(fft_vals,f)\n",
    "    tr_lab.loc[tr_lab.measurement == i, \"max_intensity\"] = np.max(fft_vals[1:])\n",
    "\n",
    "    #calculate power spectrum density \n",
    "    f, psd = welch(mags, fs=samp_rate)\n",
    "    #find index corresponding to max power between 0.3 and 0.8Hz\n",
    "    #find max p\n",
    "    tr_lab.loc[tr_lab.measurement == i, \"max_power\"] = np.max(psd[(f > 0.3) & (psd < 0.8)])\n",
    "    #find frequency of max power\n",
    "    tr_lab.loc[tr_lab.measurement == i, \"max_p_freq\"] = f[np.argmax(psd)]\n",
    "    #total power in signal\n",
    "    tr_lab.loc[tr_lab.measurement == i, \"power\"] = np.trapz(psd, f) \n",
    "\n",
    "    previous = i\n",
    "\n",
    "#drop unused labelled data.\n",
    "tr_lab = tr_lab.drop([tr_lab.index[0], tr_lab.index[len(tr_lab) - 1]])"
   ]
  },
  {
   "cell_type": "code",
   "execution_count": 85,
   "metadata": {},
   "outputs": [
    {
     "output_type": "execute_result",
     "data": {
      "text/plain": [
       "     mean_accel_mag    SD_mag   var_mag   RSD_mag   min_mag   max_mag  \\\n",
       "3          1.008786  0.072167  0.005208  0.071538  0.852482  1.251372   \n",
       "4          1.007379  0.033143  0.001098  0.032900  0.902399  1.101590   \n",
       "5          1.005584  0.008227  0.000068  0.008182  0.987280  1.027750   \n",
       "6          1.022201  0.148611  0.022085  0.145383  0.817667  1.587389   \n",
       "7          1.022756  0.149196  0.022259  0.145876  0.817667  1.587389   \n",
       "..              ...       ...       ...       ...       ...       ...   \n",
       "367        1.211536  0.662540  0.438959  0.546859  0.409712  3.168469   \n",
       "368        1.262138  0.583541  0.340520  0.462343  0.409712  2.422324   \n",
       "369        1.270479  0.660060  0.435679  0.519536  0.434802  3.079310   \n",
       "370        1.222234  0.592357  0.350887  0.484651  0.468032  3.079310   \n",
       "371        1.282362  0.555392  0.308460  0.433101  0.408598  2.796540   \n",
       "\n",
       "     per_25_mag  per_50_mag  per_75_mag  mean_roll  mean_pitch  mean_yaw  \\\n",
       "3      0.991498    1.011016    1.020965  -0.350190    0.049377 -0.382059   \n",
       "4      1.004853    1.007719    1.010227  -0.391321    0.026291 -0.368093   \n",
       "5      1.002109    1.006927    1.009144  -0.381773    0.018989 -0.384782   \n",
       "6      0.991007    1.004542    1.011859  -0.303981    0.082442 -0.395256   \n",
       "7      0.992556    1.003677    1.027276  -0.298319    0.112028 -0.367590   \n",
       "..          ...         ...         ...        ...         ...       ...   \n",
       "367    0.843505    0.990541    1.502084  -0.319991    0.132011 -0.290370   \n",
       "368    0.912244    1.144645    1.825492  -0.389212    0.040098 -0.351020   \n",
       "369    0.897654    1.144645    1.590064  -0.379902    0.102069 -0.307076   \n",
       "370    0.913894    1.034177    1.422695  -0.403515    0.047773 -0.331108   \n",
       "371    0.934651    1.131752    1.732481  -0.427700    0.016340 -0.344778   \n",
       "\n",
       "      SD_roll  SD_pitch    SD_yaw  mean_freq  max_intensity  max_power  \\\n",
       "3    0.439998  0.104720  0.404243   0.978772      10.743448   0.002786   \n",
       "4    0.398948  0.074305  0.419572   0.687091       4.880440   0.000048   \n",
       "5    0.408277  0.069802  0.402284   0.657311       4.865574   0.000024   \n",
       "6    0.485152  0.121084  0.390095   0.815231       4.910824   0.000855   \n",
       "7    0.490582  0.126677  0.415695   1.758800       5.195433   0.016970   \n",
       "..        ...       ...       ...        ...            ...        ...   \n",
       "367  0.501787  0.369147  0.567861   1.987153       5.628007   0.176071   \n",
       "368  0.466605  0.378735  0.562260   1.918741       6.032479   0.107480   \n",
       "369  0.472148  0.362126  0.593597   1.907556       6.469696   0.136777   \n",
       "370  0.438561  0.366807  0.564350   2.249063       7.504650   0.194595   \n",
       "371  0.430674  0.420648  0.589646   2.294548       6.585685   0.197380   \n",
       "\n",
       "     max_p_freq     power  \n",
       "3      4.761905  0.003735  \n",
       "4      4.736842  0.000076  \n",
       "5      1.052632  0.000054  \n",
       "6      2.105263  0.001685  \n",
       "7      2.631579  0.043733  \n",
       "..          ...       ...  \n",
       "367    1.578947  0.223237  \n",
       "368    1.578947  0.159763  \n",
       "369    1.578947  0.219085  \n",
       "370    3.684211  0.599879  \n",
       "371    2.631579  0.542177  \n",
       "\n",
       "[369 rows x 20 columns]"
      ],
      "text/html": "<div>\n<style scoped>\n    .dataframe tbody tr th:only-of-type {\n        vertical-align: middle;\n    }\n\n    .dataframe tbody tr th {\n        vertical-align: top;\n    }\n\n    .dataframe thead th {\n        text-align: right;\n    }\n</style>\n<table border=\"1\" class=\"dataframe\">\n  <thead>\n    <tr style=\"text-align: right;\">\n      <th></th>\n      <th>mean_accel_mag</th>\n      <th>SD_mag</th>\n      <th>var_mag</th>\n      <th>RSD_mag</th>\n      <th>min_mag</th>\n      <th>max_mag</th>\n      <th>per_25_mag</th>\n      <th>per_50_mag</th>\n      <th>per_75_mag</th>\n      <th>mean_roll</th>\n      <th>mean_pitch</th>\n      <th>mean_yaw</th>\n      <th>SD_roll</th>\n      <th>SD_pitch</th>\n      <th>SD_yaw</th>\n      <th>mean_freq</th>\n      <th>max_intensity</th>\n      <th>max_power</th>\n      <th>max_p_freq</th>\n      <th>power</th>\n    </tr>\n  </thead>\n  <tbody>\n    <tr>\n      <th>3</th>\n      <td>1.008786</td>\n      <td>0.072167</td>\n      <td>0.005208</td>\n      <td>0.071538</td>\n      <td>0.852482</td>\n      <td>1.251372</td>\n      <td>0.991498</td>\n      <td>1.011016</td>\n      <td>1.020965</td>\n      <td>-0.350190</td>\n      <td>0.049377</td>\n      <td>-0.382059</td>\n      <td>0.439998</td>\n      <td>0.104720</td>\n      <td>0.404243</td>\n      <td>0.978772</td>\n      <td>10.743448</td>\n      <td>0.002786</td>\n      <td>4.761905</td>\n      <td>0.003735</td>\n    </tr>\n    <tr>\n      <th>4</th>\n      <td>1.007379</td>\n      <td>0.033143</td>\n      <td>0.001098</td>\n      <td>0.032900</td>\n      <td>0.902399</td>\n      <td>1.101590</td>\n      <td>1.004853</td>\n      <td>1.007719</td>\n      <td>1.010227</td>\n      <td>-0.391321</td>\n      <td>0.026291</td>\n      <td>-0.368093</td>\n      <td>0.398948</td>\n      <td>0.074305</td>\n      <td>0.419572</td>\n      <td>0.687091</td>\n      <td>4.880440</td>\n      <td>0.000048</td>\n      <td>4.736842</td>\n      <td>0.000076</td>\n    </tr>\n    <tr>\n      <th>5</th>\n      <td>1.005584</td>\n      <td>0.008227</td>\n      <td>0.000068</td>\n      <td>0.008182</td>\n      <td>0.987280</td>\n      <td>1.027750</td>\n      <td>1.002109</td>\n      <td>1.006927</td>\n      <td>1.009144</td>\n      <td>-0.381773</td>\n      <td>0.018989</td>\n      <td>-0.384782</td>\n      <td>0.408277</td>\n      <td>0.069802</td>\n      <td>0.402284</td>\n      <td>0.657311</td>\n      <td>4.865574</td>\n      <td>0.000024</td>\n      <td>1.052632</td>\n      <td>0.000054</td>\n    </tr>\n    <tr>\n      <th>6</th>\n      <td>1.022201</td>\n      <td>0.148611</td>\n      <td>0.022085</td>\n      <td>0.145383</td>\n      <td>0.817667</td>\n      <td>1.587389</td>\n      <td>0.991007</td>\n      <td>1.004542</td>\n      <td>1.011859</td>\n      <td>-0.303981</td>\n      <td>0.082442</td>\n      <td>-0.395256</td>\n      <td>0.485152</td>\n      <td>0.121084</td>\n      <td>0.390095</td>\n      <td>0.815231</td>\n      <td>4.910824</td>\n      <td>0.000855</td>\n      <td>2.105263</td>\n      <td>0.001685</td>\n    </tr>\n    <tr>\n      <th>7</th>\n      <td>1.022756</td>\n      <td>0.149196</td>\n      <td>0.022259</td>\n      <td>0.145876</td>\n      <td>0.817667</td>\n      <td>1.587389</td>\n      <td>0.992556</td>\n      <td>1.003677</td>\n      <td>1.027276</td>\n      <td>-0.298319</td>\n      <td>0.112028</td>\n      <td>-0.367590</td>\n      <td>0.490582</td>\n      <td>0.126677</td>\n      <td>0.415695</td>\n      <td>1.758800</td>\n      <td>5.195433</td>\n      <td>0.016970</td>\n      <td>2.631579</td>\n      <td>0.043733</td>\n    </tr>\n    <tr>\n      <th>...</th>\n      <td>...</td>\n      <td>...</td>\n      <td>...</td>\n      <td>...</td>\n      <td>...</td>\n      <td>...</td>\n      <td>...</td>\n      <td>...</td>\n      <td>...</td>\n      <td>...</td>\n      <td>...</td>\n      <td>...</td>\n      <td>...</td>\n      <td>...</td>\n      <td>...</td>\n      <td>...</td>\n      <td>...</td>\n      <td>...</td>\n      <td>...</td>\n      <td>...</td>\n    </tr>\n    <tr>\n      <th>367</th>\n      <td>1.211536</td>\n      <td>0.662540</td>\n      <td>0.438959</td>\n      <td>0.546859</td>\n      <td>0.409712</td>\n      <td>3.168469</td>\n      <td>0.843505</td>\n      <td>0.990541</td>\n      <td>1.502084</td>\n      <td>-0.319991</td>\n      <td>0.132011</td>\n      <td>-0.290370</td>\n      <td>0.501787</td>\n      <td>0.369147</td>\n      <td>0.567861</td>\n      <td>1.987153</td>\n      <td>5.628007</td>\n      <td>0.176071</td>\n      <td>1.578947</td>\n      <td>0.223237</td>\n    </tr>\n    <tr>\n      <th>368</th>\n      <td>1.262138</td>\n      <td>0.583541</td>\n      <td>0.340520</td>\n      <td>0.462343</td>\n      <td>0.409712</td>\n      <td>2.422324</td>\n      <td>0.912244</td>\n      <td>1.144645</td>\n      <td>1.825492</td>\n      <td>-0.389212</td>\n      <td>0.040098</td>\n      <td>-0.351020</td>\n      <td>0.466605</td>\n      <td>0.378735</td>\n      <td>0.562260</td>\n      <td>1.918741</td>\n      <td>6.032479</td>\n      <td>0.107480</td>\n      <td>1.578947</td>\n      <td>0.159763</td>\n    </tr>\n    <tr>\n      <th>369</th>\n      <td>1.270479</td>\n      <td>0.660060</td>\n      <td>0.435679</td>\n      <td>0.519536</td>\n      <td>0.434802</td>\n      <td>3.079310</td>\n      <td>0.897654</td>\n      <td>1.144645</td>\n      <td>1.590064</td>\n      <td>-0.379902</td>\n      <td>0.102069</td>\n      <td>-0.307076</td>\n      <td>0.472148</td>\n      <td>0.362126</td>\n      <td>0.593597</td>\n      <td>1.907556</td>\n      <td>6.469696</td>\n      <td>0.136777</td>\n      <td>1.578947</td>\n      <td>0.219085</td>\n    </tr>\n    <tr>\n      <th>370</th>\n      <td>1.222234</td>\n      <td>0.592357</td>\n      <td>0.350887</td>\n      <td>0.484651</td>\n      <td>0.468032</td>\n      <td>3.079310</td>\n      <td>0.913894</td>\n      <td>1.034177</td>\n      <td>1.422695</td>\n      <td>-0.403515</td>\n      <td>0.047773</td>\n      <td>-0.331108</td>\n      <td>0.438561</td>\n      <td>0.366807</td>\n      <td>0.564350</td>\n      <td>2.249063</td>\n      <td>7.504650</td>\n      <td>0.194595</td>\n      <td>3.684211</td>\n      <td>0.599879</td>\n    </tr>\n    <tr>\n      <th>371</th>\n      <td>1.282362</td>\n      <td>0.555392</td>\n      <td>0.308460</td>\n      <td>0.433101</td>\n      <td>0.408598</td>\n      <td>2.796540</td>\n      <td>0.934651</td>\n      <td>1.131752</td>\n      <td>1.732481</td>\n      <td>-0.427700</td>\n      <td>0.016340</td>\n      <td>-0.344778</td>\n      <td>0.430674</td>\n      <td>0.420648</td>\n      <td>0.589646</td>\n      <td>2.294548</td>\n      <td>6.585685</td>\n      <td>0.197380</td>\n      <td>2.631579</td>\n      <td>0.542177</td>\n    </tr>\n  </tbody>\n</table>\n<p>369 rows × 20 columns</p>\n</div>"
     },
     "metadata": {},
     "execution_count": 85
    }
   ],
   "source": [
    "covariates = tr_lab.drop(columns = ['measurement', 'label']).columns\n",
    "\n",
    "y_train = tr_lab['label']\n",
    "X_train = tr_lab[covariates]\n",
    "X_train"
   ]
  },
  {
   "cell_type": "code",
   "execution_count": 86,
   "metadata": {},
   "outputs": [],
   "source": [
    "# pca = PCA(n_components='mle')\n",
    "# pca.fit(X_train)\n",
    "# X_train = pca.transform(X_train)\n",
    "# print(\"Reduced shape: {}\".format(str(X_train.shape)))"
   ]
  },
  {
   "cell_type": "code",
   "execution_count": 87,
   "metadata": {},
   "outputs": [],
   "source": [
    "# sel = VarianceThreshold(threshold=(.1))\n",
    "# X_train = sel.fit_transform(tr_lab[covariates])\n",
    "# X_train.shape"
   ]
  },
  {
   "cell_type": "code",
   "execution_count": 93,
   "metadata": {},
   "outputs": [
    {
     "output_type": "execute_result",
     "data": {
      "text/plain": [
       "{'max_depth': None, 'n_estimators': 100}"
      ]
     },
     "metadata": {},
     "execution_count": 93
    }
   ],
   "source": [
    "#Initialise a random forest and determine best set of hyperparameters\n",
    "rfc = RandomForestClassifier()\n",
    "\n",
    "parameters = {\n",
    "    \"n_estimators\":[5,10,50,100,250],\n",
    "    \"max_depth\":[2,4,8,16,32,None]   \n",
    "}\n",
    "\n",
    "cv = GridSearchCV(rfc,parameters,cv=10)\n",
    "cv.fit(X_train, y_train)\n",
    "best_params = cv.best_params_ \n",
    "best_params"
   ]
  },
  {
   "cell_type": "code",
   "execution_count": 94,
   "metadata": {},
   "outputs": [
    {
     "output_type": "execute_result",
     "data": {
      "text/plain": [
       "RandomForestClassifier()"
      ]
     },
     "metadata": {},
     "execution_count": 94
    }
   ],
   "source": [
    "#initialise random forest model with best hyperparameters and train\n",
    "rfc = RandomForestClassifier(max_depth = best_params['max_depth'], n_estimators = best_params['n_estimators'])\n",
    "rfc.fit(X_train, y_train)"
   ]
  },
  {
   "cell_type": "code",
   "execution_count": 99,
   "metadata": {},
   "outputs": [
    {
     "output_type": "execute_result",
     "data": {
      "text/plain": [
       "0.7561273602369492"
      ]
     },
     "metadata": {},
     "execution_count": 99
    }
   ],
   "source": [
    "np.mean(cross_val_score(rfc,X_train, y_train, cv=5))"
   ]
  },
  {
   "cell_type": "code",
   "execution_count": 69,
   "metadata": {},
   "outputs": [],
   "source": [
    "#read in files as DFs\n",
    "te_time = pd.read_csv(\"test_time_series.csv\")\n",
    "te_lab = pd.read_csv(\"test_labels.csv\")"
   ]
  },
  {
   "cell_type": "code",
   "execution_count": 70,
   "metadata": {},
   "outputs": [
    {
     "output_type": "stream",
     "name": "stdout",
     "text": [
      "Time:  677.2722674\n"
     ]
    }
   ],
   "source": [
    "stop = timeit.default_timer()\n",
    "print('Time: ', stop - start) "
   ]
  },
  {
   "cell_type": "code",
   "execution_count": null,
   "metadata": {},
   "outputs": [],
   "source": [
    "#try a KNN\n",
    "knn = Nearest Classifier()\n",
    "\n",
    "parameters = {\n",
    "    \"n_estimators\":[5,10,50,100,250],\n",
    "    \"max_depth\":[2,4,8,16,32,None]   \n",
    "}\n",
    "\n",
    "cv = GridSearchCV(rfc,parameters,cv=10)\n",
    "cv.fit(X_train, y_train)\n",
    "best_params = cv.best_params_ \n",
    "best_params"
   ]
  },
  {
   "cell_type": "code",
   "execution_count": null,
   "metadata": {},
   "outputs": [],
   "source": [
    "#Standardise X,Y,Z accels\n",
    "std = preprocessing.StandardScaler()\n",
    "for k in [\"x\", \"y\", \"z\"]:\n",
    "    tr_time[k] = std.fit_transform(tr_time[k].values.reshape(-1,1))\n",
    "tr_time.tail()"
   ]
  },
  {
   "cell_type": "code",
   "execution_count": null,
   "metadata": {},
   "outputs": [],
   "source": []
  },
  {
   "cell_type": "code",
   "execution_count": null,
   "metadata": {},
   "outputs": [],
   "source": []
  },
  {
   "cell_type": "code",
   "execution_count": null,
   "metadata": {},
   "outputs": [],
   "source": []
  },
  {
   "cell_type": "code",
   "execution_count": 27,
   "metadata": {},
   "outputs": [
    {
     "output_type": "execute_result",
     "data": {
      "text/plain": [
       "array([0.0056515 , 0.0025298 , 0.01139067, 0.07704185, 0.09652372,\n",
       "       0.05106674, 0.06748851, 0.08006489, 0.10602767, 0.0209424 ])"
      ]
     },
     "metadata": {},
     "execution_count": 27
    }
   ],
   "source": []
  },
  {
   "cell_type": "code",
   "execution_count": 24,
   "metadata": {},
   "outputs": [
    {
     "output_type": "execute_result",
     "data": {
      "text/plain": [
       "array([0.        , 0.52631579, 1.05263158, 1.57894737, 2.10526316,\n",
       "       2.63157895, 3.15789474, 3.68421053, 4.21052632, 4.73684211])"
      ]
     },
     "metadata": {},
     "execution_count": 24
    }
   ],
   "source": [
    "f[]"
   ]
  },
  {
   "cell_type": "code",
   "execution_count": 30,
   "metadata": {},
   "outputs": [
    {
     "output_type": "execute_result",
     "data": {
      "text/plain": [
       "8"
      ]
     },
     "metadata": {},
     "execution_count": 30
    }
   ],
   "source": [
    "np.argmax(psd)\n"
   ]
  },
  {
   "cell_type": "code",
   "execution_count": null,
   "metadata": {},
   "outputs": [],
   "source": []
  },
  {
   "cell_type": "code",
   "execution_count": 482,
   "metadata": {},
   "outputs": [
    {
     "output_type": "execute_result",
     "data": {
      "text/plain": [
       "     measurement  label  mean_accel_mag    SD_mag   var_mag   RSD_mag  \\\n",
       "2          20609      1        1.001965  0.065664  0.004312  0.065535   \n",
       "3          20619      1        1.014013  0.080461  0.006474  0.079349   \n",
       "4          20629      1        1.007379  0.033143  0.001098  0.032900   \n",
       "5          20639      1        1.005584  0.008227  0.000068  0.008182   \n",
       "6          20649      1        1.022201  0.148611  0.022085  0.145383   \n",
       "..           ...    ...             ...       ...       ...       ...   \n",
       "368        24269      4        1.262138  0.583541  0.340520  0.462343   \n",
       "369        24279      4        1.270479  0.660060  0.435679  0.519536   \n",
       "370        24289      4        1.222234  0.592357  0.350887  0.484651   \n",
       "371        24299      4        1.282362  0.555392  0.308460  0.433101   \n",
       "372        24309      4        1.214856  0.502070  0.252075  0.413276   \n",
       "\n",
       "      min_mag   max_mag  per_25_mag  per_50_mag  ...  mean_pitch  mean_yaw  \\\n",
       "2    0.852482  1.208477    0.989259    1.011607  ...    0.047209 -0.380767   \n",
       "3    0.884094  1.251372    0.996758    1.011652  ...    0.050925 -0.385778   \n",
       "4    0.902399  1.101590    1.004853    1.007719  ...    0.026291 -0.368093   \n",
       "5    0.987280  1.027750    1.002109    1.006927  ...    0.018989 -0.384782   \n",
       "6    0.817667  1.587389    0.991007    1.004542  ...    0.082442 -0.395256   \n",
       "..        ...       ...         ...         ...  ...         ...       ...   \n",
       "368  0.409712  2.422324    0.912244    1.144645  ...    0.040098 -0.351020   \n",
       "369  0.434802  3.079310    0.897654    1.144645  ...    0.102069 -0.307076   \n",
       "370  0.468032  3.079310    0.913894    1.034177  ...    0.047773 -0.331108   \n",
       "371  0.408598  2.796540    0.934651    1.131752  ...    0.016340 -0.344778   \n",
       "372  0.566108  2.796540    0.937181    1.088328  ...    0.154522 -0.266726   \n",
       "\n",
       "      SD_roll  SD_pitch    SD_yaw  mean_freq  max_intensity  max_power  \\\n",
       "2    0.437295  0.107240  0.401804   1.245041       8.110292       10.0   \n",
       "3    0.443279  0.098584  0.403923   1.560199       4.905462        8.0   \n",
       "4    0.398948  0.074305  0.419572   0.687091       4.880440        8.0   \n",
       "5    0.408277  0.069802  0.402284   0.657311       4.865574        1.0   \n",
       "6    0.485152  0.121084  0.390095   0.815231       4.910824        3.0   \n",
       "..        ...       ...       ...        ...            ...        ...   \n",
       "368  0.466605  0.378735  0.562260   1.918741       6.032479        2.0   \n",
       "369  0.472148  0.362126  0.593597   1.907556       6.469696        2.0   \n",
       "370  0.438561  0.366807  0.564350   2.249063       7.504650        6.0   \n",
       "371  0.430674  0.420648  0.589646   2.294548       6.585685        4.0   \n",
       "372  0.478905  0.376584  0.602381   1.799439       5.316189        2.0   \n",
       "\n",
       "     max_p_freq     power  \n",
       "2           0.0  0.004188  \n",
       "3           0.0  0.012689  \n",
       "4           0.0  0.000076  \n",
       "5           0.0  0.000054  \n",
       "6           0.0  0.001685  \n",
       "..          ...       ...  \n",
       "368         0.0  0.159763  \n",
       "369         0.0  0.219085  \n",
       "370         0.0  0.599879  \n",
       "371         0.0  0.542177  \n",
       "372         0.0  0.169697  \n",
       "\n",
       "[371 rows x 22 columns]"
      ],
      "text/html": "<div>\n<style scoped>\n    .dataframe tbody tr th:only-of-type {\n        vertical-align: middle;\n    }\n\n    .dataframe tbody tr th {\n        vertical-align: top;\n    }\n\n    .dataframe thead th {\n        text-align: right;\n    }\n</style>\n<table border=\"1\" class=\"dataframe\">\n  <thead>\n    <tr style=\"text-align: right;\">\n      <th></th>\n      <th>measurement</th>\n      <th>label</th>\n      <th>mean_accel_mag</th>\n      <th>SD_mag</th>\n      <th>var_mag</th>\n      <th>RSD_mag</th>\n      <th>min_mag</th>\n      <th>max_mag</th>\n      <th>per_25_mag</th>\n      <th>per_50_mag</th>\n      <th>...</th>\n      <th>mean_pitch</th>\n      <th>mean_yaw</th>\n      <th>SD_roll</th>\n      <th>SD_pitch</th>\n      <th>SD_yaw</th>\n      <th>mean_freq</th>\n      <th>max_intensity</th>\n      <th>max_power</th>\n      <th>max_p_freq</th>\n      <th>power</th>\n    </tr>\n  </thead>\n  <tbody>\n    <tr>\n      <th>2</th>\n      <td>20609</td>\n      <td>1</td>\n      <td>1.001965</td>\n      <td>0.065664</td>\n      <td>0.004312</td>\n      <td>0.065535</td>\n      <td>0.852482</td>\n      <td>1.208477</td>\n      <td>0.989259</td>\n      <td>1.011607</td>\n      <td>...</td>\n      <td>0.047209</td>\n      <td>-0.380767</td>\n      <td>0.437295</td>\n      <td>0.107240</td>\n      <td>0.401804</td>\n      <td>1.245041</td>\n      <td>8.110292</td>\n      <td>10.0</td>\n      <td>0.0</td>\n      <td>0.004188</td>\n    </tr>\n    <tr>\n      <th>3</th>\n      <td>20619</td>\n      <td>1</td>\n      <td>1.014013</td>\n      <td>0.080461</td>\n      <td>0.006474</td>\n      <td>0.079349</td>\n      <td>0.884094</td>\n      <td>1.251372</td>\n      <td>0.996758</td>\n      <td>1.011652</td>\n      <td>...</td>\n      <td>0.050925</td>\n      <td>-0.385778</td>\n      <td>0.443279</td>\n      <td>0.098584</td>\n      <td>0.403923</td>\n      <td>1.560199</td>\n      <td>4.905462</td>\n      <td>8.0</td>\n      <td>0.0</td>\n      <td>0.012689</td>\n    </tr>\n    <tr>\n      <th>4</th>\n      <td>20629</td>\n      <td>1</td>\n      <td>1.007379</td>\n      <td>0.033143</td>\n      <td>0.001098</td>\n      <td>0.032900</td>\n      <td>0.902399</td>\n      <td>1.101590</td>\n      <td>1.004853</td>\n      <td>1.007719</td>\n      <td>...</td>\n      <td>0.026291</td>\n      <td>-0.368093</td>\n      <td>0.398948</td>\n      <td>0.074305</td>\n      <td>0.419572</td>\n      <td>0.687091</td>\n      <td>4.880440</td>\n      <td>8.0</td>\n      <td>0.0</td>\n      <td>0.000076</td>\n    </tr>\n    <tr>\n      <th>5</th>\n      <td>20639</td>\n      <td>1</td>\n      <td>1.005584</td>\n      <td>0.008227</td>\n      <td>0.000068</td>\n      <td>0.008182</td>\n      <td>0.987280</td>\n      <td>1.027750</td>\n      <td>1.002109</td>\n      <td>1.006927</td>\n      <td>...</td>\n      <td>0.018989</td>\n      <td>-0.384782</td>\n      <td>0.408277</td>\n      <td>0.069802</td>\n      <td>0.402284</td>\n      <td>0.657311</td>\n      <td>4.865574</td>\n      <td>1.0</td>\n      <td>0.0</td>\n      <td>0.000054</td>\n    </tr>\n    <tr>\n      <th>6</th>\n      <td>20649</td>\n      <td>1</td>\n      <td>1.022201</td>\n      <td>0.148611</td>\n      <td>0.022085</td>\n      <td>0.145383</td>\n      <td>0.817667</td>\n      <td>1.587389</td>\n      <td>0.991007</td>\n      <td>1.004542</td>\n      <td>...</td>\n      <td>0.082442</td>\n      <td>-0.395256</td>\n      <td>0.485152</td>\n      <td>0.121084</td>\n      <td>0.390095</td>\n      <td>0.815231</td>\n      <td>4.910824</td>\n      <td>3.0</td>\n      <td>0.0</td>\n      <td>0.001685</td>\n    </tr>\n    <tr>\n      <th>...</th>\n      <td>...</td>\n      <td>...</td>\n      <td>...</td>\n      <td>...</td>\n      <td>...</td>\n      <td>...</td>\n      <td>...</td>\n      <td>...</td>\n      <td>...</td>\n      <td>...</td>\n      <td>...</td>\n      <td>...</td>\n      <td>...</td>\n      <td>...</td>\n      <td>...</td>\n      <td>...</td>\n      <td>...</td>\n      <td>...</td>\n      <td>...</td>\n      <td>...</td>\n      <td>...</td>\n    </tr>\n    <tr>\n      <th>368</th>\n      <td>24269</td>\n      <td>4</td>\n      <td>1.262138</td>\n      <td>0.583541</td>\n      <td>0.340520</td>\n      <td>0.462343</td>\n      <td>0.409712</td>\n      <td>2.422324</td>\n      <td>0.912244</td>\n      <td>1.144645</td>\n      <td>...</td>\n      <td>0.040098</td>\n      <td>-0.351020</td>\n      <td>0.466605</td>\n      <td>0.378735</td>\n      <td>0.562260</td>\n      <td>1.918741</td>\n      <td>6.032479</td>\n      <td>2.0</td>\n      <td>0.0</td>\n      <td>0.159763</td>\n    </tr>\n    <tr>\n      <th>369</th>\n      <td>24279</td>\n      <td>4</td>\n      <td>1.270479</td>\n      <td>0.660060</td>\n      <td>0.435679</td>\n      <td>0.519536</td>\n      <td>0.434802</td>\n      <td>3.079310</td>\n      <td>0.897654</td>\n      <td>1.144645</td>\n      <td>...</td>\n      <td>0.102069</td>\n      <td>-0.307076</td>\n      <td>0.472148</td>\n      <td>0.362126</td>\n      <td>0.593597</td>\n      <td>1.907556</td>\n      <td>6.469696</td>\n      <td>2.0</td>\n      <td>0.0</td>\n      <td>0.219085</td>\n    </tr>\n    <tr>\n      <th>370</th>\n      <td>24289</td>\n      <td>4</td>\n      <td>1.222234</td>\n      <td>0.592357</td>\n      <td>0.350887</td>\n      <td>0.484651</td>\n      <td>0.468032</td>\n      <td>3.079310</td>\n      <td>0.913894</td>\n      <td>1.034177</td>\n      <td>...</td>\n      <td>0.047773</td>\n      <td>-0.331108</td>\n      <td>0.438561</td>\n      <td>0.366807</td>\n      <td>0.564350</td>\n      <td>2.249063</td>\n      <td>7.504650</td>\n      <td>6.0</td>\n      <td>0.0</td>\n      <td>0.599879</td>\n    </tr>\n    <tr>\n      <th>371</th>\n      <td>24299</td>\n      <td>4</td>\n      <td>1.282362</td>\n      <td>0.555392</td>\n      <td>0.308460</td>\n      <td>0.433101</td>\n      <td>0.408598</td>\n      <td>2.796540</td>\n      <td>0.934651</td>\n      <td>1.131752</td>\n      <td>...</td>\n      <td>0.016340</td>\n      <td>-0.344778</td>\n      <td>0.430674</td>\n      <td>0.420648</td>\n      <td>0.589646</td>\n      <td>2.294548</td>\n      <td>6.585685</td>\n      <td>4.0</td>\n      <td>0.0</td>\n      <td>0.542177</td>\n    </tr>\n    <tr>\n      <th>372</th>\n      <td>24309</td>\n      <td>4</td>\n      <td>1.214856</td>\n      <td>0.502070</td>\n      <td>0.252075</td>\n      <td>0.413276</td>\n      <td>0.566108</td>\n      <td>2.796540</td>\n      <td>0.937181</td>\n      <td>1.088328</td>\n      <td>...</td>\n      <td>0.154522</td>\n      <td>-0.266726</td>\n      <td>0.478905</td>\n      <td>0.376584</td>\n      <td>0.602381</td>\n      <td>1.799439</td>\n      <td>5.316189</td>\n      <td>2.0</td>\n      <td>0.0</td>\n      <td>0.169697</td>\n    </tr>\n  </tbody>\n</table>\n<p>371 rows × 22 columns</p>\n</div>"
     },
     "metadata": {},
     "execution_count": 482
    }
   ],
   "source": [
    "tr_lab"
   ]
  },
  {
   "cell_type": "code",
   "execution_count": null,
   "metadata": {},
   "outputs": [],
   "source": []
  },
  {
   "cell_type": "code",
   "execution_count": null,
   "metadata": {},
   "outputs": [],
   "source": []
  },
  {
   "cell_type": "code",
   "execution_count": null,
   "metadata": {},
   "outputs": [],
   "source": []
  },
  {
   "cell_type": "code",
   "execution_count": null,
   "metadata": {},
   "outputs": [],
   "source": []
  },
  {
   "cell_type": "code",
   "execution_count": null,
   "metadata": {},
   "outputs": [],
   "source": []
  },
  {
   "cell_type": "code",
   "execution_count": null,
   "metadata": {},
   "outputs": [],
   "source": []
  },
  {
   "cell_type": "code",
   "execution_count": null,
   "metadata": {},
   "outputs": [],
   "source": []
  },
  {
   "cell_type": "code",
   "execution_count": null,
   "metadata": {},
   "outputs": [],
   "source": []
  },
  {
   "cell_type": "code",
   "execution_count": 177,
   "metadata": {},
   "outputs": [
    {
     "output_type": "execute_result",
     "data": {
      "text/plain": [
       "(array([0.        , 0.43478261, 0.86956522, 1.30434783, 1.73913043,\n",
       "        2.17391304, 2.60869565, 3.04347826, 3.47826087, 3.91304348,\n",
       "        4.34782609, 4.7826087 ]),\n",
       " array([0.00075746, 0.00650139, 0.0074904 , 0.00841048, 0.08604953,\n",
       "        0.03825272, 0.02212067, 0.040107  , 0.01621776, 0.07028393,\n",
       "        0.04486184, 0.00503467]))"
      ]
     },
     "metadata": {},
     "execution_count": 177
    }
   ],
   "source": [
    "psd = welch(mags, fs=samp_rate)\n",
    "psd"
   ]
  },
  {
   "cell_type": "code",
   "execution_count": 178,
   "metadata": {},
   "outputs": [
    {
     "output_type": "execute_result",
     "data": {
      "text/plain": [
       "1"
      ]
     },
     "metadata": {},
     "execution_count": 178
    }
   ],
   "source": [
    "psd_max = np.argmax(a[1])\n",
    "psd_max"
   ]
  },
  {
   "cell_type": "code",
   "execution_count": 156,
   "metadata": {},
   "outputs": [
    {
     "output_type": "execute_result",
     "data": {
      "text/plain": [
       "0.4347826086956521"
      ]
     },
     "metadata": {},
     "execution_count": 156
    }
   ],
   "source": [
    "psd[0][psd_max]"
   ]
  },
  {
   "cell_type": "code",
   "execution_count": 158,
   "metadata": {},
   "outputs": [
    {
     "output_type": "execute_result",
     "data": {
      "text/plain": [
       "0"
      ]
     },
     "metadata": {},
     "execution_count": 158
    }
   ],
   "source": [
    "np.argmax(psd[1][(psd[0] > 0.3) & (psd[0] < 0.8)])"
   ]
  },
  {
   "cell_type": "code",
   "execution_count": 252,
   "metadata": {},
   "outputs": [
    {
     "output_type": "execute_result",
     "data": {
      "text/plain": [
       "array([0.        , 0.52631579, 1.05263158, 1.57894737, 2.10526316,\n",
       "       2.63157895, 3.15789474, 3.68421053, 4.21052632, 4.73684211])"
      ]
     },
     "metadata": {},
     "execution_count": 252
    }
   ],
   "source": [
    "#calculate power spectrum density \n",
    "f, psd = welch(mags, fs=samp_rate)\n",
    "#find index corresponding to max power between 0.3 and 0.8Hz\n",
    "#tr_lab.loc[tr_lab.measurement == i, \"max_power\"] = np.argmax(psd[1][(psd[0] > 0.3) & (psd[0] < 0.8)])\n",
    "#find frequency of max power\n",
    "#tr_lab.loc[tr_lab.measurement == i, \"mean_freq\"] = psd[0][max_p_ind]    \n",
    "f"
   ]
  },
  {
   "cell_type": "code",
   "execution_count": 199,
   "metadata": {},
   "outputs": [
    {
     "output_type": "execute_result",
     "data": {
      "text/plain": [
       "0.8011948603379807"
      ]
     },
     "metadata": {},
     "execution_count": 199
    }
   ],
   "source": [
    "freq_int = f[1] - f[0]\n",
    "np.trapz(psd, f)"
   ]
  },
  {
   "cell_type": "code",
   "execution_count": 253,
   "metadata": {},
   "outputs": [
    {
     "output_type": "execute_result",
     "data": {
      "text/plain": [
       "array([9.9371499 , 5.34976885, 0.76353909, 1.42142026, 1.63783038,\n",
       "       1.05222463, 1.21622593, 1.33346806, 1.63741016, 0.60578641,\n",
       "       0.60578641, 1.63741016, 1.33346806, 1.21622593, 1.05222463,\n",
       "       1.63783038, 1.42142026, 0.76353909, 5.34976885])"
      ]
     },
     "metadata": {},
     "execution_count": 253
    }
   ],
   "source": [
    "    #Fourier transform each step\n",
    "    n = len(mags)\n",
    "    mags_windowed = np.hanning(len(mags))*mags\n",
    "    f = np.linspace(0, samp_rate, n)\n",
    "    fft_vals = np.abs(fft(mags_windowed))\n",
    "    tr_lab.loc[tr_lab.measurement == i, \"mean_freq\"] = mean_freq(fft_vals,f)\n",
    "    fft_vals"
   ]
  },
  {
   "cell_type": "code",
   "execution_count": null,
   "metadata": {},
   "outputs": [],
   "source": []
  }
 ],
 "metadata": {
  "kernelspec": {
   "display_name": "Python 3",
   "language": "python",
   "name": "python3"
  },
  "language_info": {
   "codemirror_mode": {
    "name": "ipython",
    "version": 3
   },
   "file_extension": ".py",
   "mimetype": "text/x-python",
   "name": "python",
   "nbconvert_exporter": "python",
   "pygments_lexer": "ipython3",
   "version": "3.8.3-final"
  }
 },
 "nbformat": 4,
 "nbformat_minor": 4
}