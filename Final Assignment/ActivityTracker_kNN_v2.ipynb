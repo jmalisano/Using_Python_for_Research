{
 "cells": [
  {
   "cell_type": "code",
   "execution_count": 2,
   "metadata": {},
   "outputs": [],
   "source": [
    "import pandas as pd\n",
    "import numpy as np\n",
    "import datetime as dt\n",
    "\n",
    "from sklearn.model_selection import cross_val_score, train_test_split\n",
    "from sklearn.neighbors import KNeighborsClassifier\n",
    "\n",
    "from sklearn import preprocessing\n",
    "from sklearn.model_selection import GridSearchCV\n",
    "from sklearn.feature_selection import VarianceThreshold\n",
    "from yellowbrick.features import RFECV\n",
    "\n",
    "from sklearn.metrics import accuracy_score\n",
    "\n",
    "import matplotlib.pyplot as plt\n",
    "\n",
    "import warnings\n",
    "warnings.filterwarnings(\"ignore\")\n"
   ]
  },
  {
   "cell_type": "code",
   "execution_count": 3,
   "metadata": {},
   "outputs": [],
   "source": [
    "tr_time = pd.read_csv(\"train_time_series.csv\").drop(columns = [\"timestamp\",\"UTC time\",\"accuracy\"])\n",
    "tr_lab = pd.read_csv(\"train_labels.csv\").drop(columns = [\"timestamp\",\"UTC time\"])"
   ]
  },
  {
   "cell_type": "code",
   "execution_count": 4,
   "metadata": {},
   "outputs": [],
   "source": [
    "tr_time.rename(columns = {\"Unnamed: 0\":\"measurement\"}, inplace=True)\n",
    "tr_lab.rename(columns = {\"Unnamed: 0\":\"measurement\"}, inplace=True)\n",
    "\n",
    "df = tr_time.merge(tr_lab,on=\"measurement\")  #remove / move??"
   ]
  },
  {
   "cell_type": "code",
   "execution_count": 5,
   "metadata": {},
   "outputs": [
    {
     "data": {
      "text/html": [
       "<div>\n",
       "<style scoped>\n",
       "    .dataframe tbody tr th:only-of-type {\n",
       "        vertical-align: middle;\n",
       "    }\n",
       "\n",
       "    .dataframe tbody tr th {\n",
       "        vertical-align: top;\n",
       "    }\n",
       "\n",
       "    .dataframe thead th {\n",
       "        text-align: right;\n",
       "    }\n",
       "</style>\n",
       "<table border=\"1\" class=\"dataframe\">\n",
       "  <thead>\n",
       "    <tr style=\"text-align: right;\">\n",
       "      <th></th>\n",
       "      <th>measurement</th>\n",
       "      <th>x</th>\n",
       "      <th>y</th>\n",
       "      <th>z</th>\n",
       "    </tr>\n",
       "  </thead>\n",
       "  <tbody>\n",
       "    <tr>\n",
       "      <th>3739</th>\n",
       "      <td>24325</td>\n",
       "      <td>0.024384</td>\n",
       "      <td>-0.710709</td>\n",
       "      <td>0.030304</td>\n",
       "    </tr>\n",
       "    <tr>\n",
       "      <th>3740</th>\n",
       "      <td>24326</td>\n",
       "      <td>0.487228</td>\n",
       "      <td>-1.099136</td>\n",
       "      <td>-0.015213</td>\n",
       "    </tr>\n",
       "    <tr>\n",
       "      <th>3741</th>\n",
       "      <td>24327</td>\n",
       "      <td>0.369446</td>\n",
       "      <td>-0.968506</td>\n",
       "      <td>0.036713</td>\n",
       "    </tr>\n",
       "    <tr>\n",
       "      <th>3742</th>\n",
       "      <td>24328</td>\n",
       "      <td>0.167877</td>\n",
       "      <td>-0.802826</td>\n",
       "      <td>0.049805</td>\n",
       "    </tr>\n",
       "    <tr>\n",
       "      <th>3743</th>\n",
       "      <td>24329</td>\n",
       "      <td>0.689346</td>\n",
       "      <td>-0.991043</td>\n",
       "      <td>0.034973</td>\n",
       "    </tr>\n",
       "  </tbody>\n",
       "</table>\n",
       "</div>"
      ],
      "text/plain": [
       "      measurement         x         y         z\n",
       "3739        24325  0.024384 -0.710709  0.030304\n",
       "3740        24326  0.487228 -1.099136 -0.015213\n",
       "3741        24327  0.369446 -0.968506  0.036713\n",
       "3742        24328  0.167877 -0.802826  0.049805\n",
       "3743        24329  0.689346 -0.991043  0.034973"
      ]
     },
     "execution_count": 5,
     "metadata": {},
     "output_type": "execute_result"
    }
   ],
   "source": [
    "tr_time.tail()"
   ]
  },
  {
   "cell_type": "code",
   "execution_count": 6,
   "metadata": {},
   "outputs": [
    {
     "data": {
      "text/html": [
       "<div>\n",
       "<style scoped>\n",
       "    .dataframe tbody tr th:only-of-type {\n",
       "        vertical-align: middle;\n",
       "    }\n",
       "\n",
       "    .dataframe tbody tr th {\n",
       "        vertical-align: top;\n",
       "    }\n",
       "\n",
       "    .dataframe thead th {\n",
       "        text-align: right;\n",
       "    }\n",
       "</style>\n",
       "<table border=\"1\" class=\"dataframe\">\n",
       "  <thead>\n",
       "    <tr style=\"text-align: right;\">\n",
       "      <th></th>\n",
       "      <th>measurement</th>\n",
       "      <th>label</th>\n",
       "    </tr>\n",
       "  </thead>\n",
       "  <tbody>\n",
       "    <tr>\n",
       "      <th>0</th>\n",
       "      <td>20589</td>\n",
       "      <td>1</td>\n",
       "    </tr>\n",
       "    <tr>\n",
       "      <th>1</th>\n",
       "      <td>20599</td>\n",
       "      <td>1</td>\n",
       "    </tr>\n",
       "    <tr>\n",
       "      <th>2</th>\n",
       "      <td>20609</td>\n",
       "      <td>1</td>\n",
       "    </tr>\n",
       "    <tr>\n",
       "      <th>3</th>\n",
       "      <td>20619</td>\n",
       "      <td>1</td>\n",
       "    </tr>\n",
       "    <tr>\n",
       "      <th>4</th>\n",
       "      <td>20629</td>\n",
       "      <td>1</td>\n",
       "    </tr>\n",
       "    <tr>\n",
       "      <th>...</th>\n",
       "      <td>...</td>\n",
       "      <td>...</td>\n",
       "    </tr>\n",
       "    <tr>\n",
       "      <th>370</th>\n",
       "      <td>24289</td>\n",
       "      <td>4</td>\n",
       "    </tr>\n",
       "    <tr>\n",
       "      <th>371</th>\n",
       "      <td>24299</td>\n",
       "      <td>4</td>\n",
       "    </tr>\n",
       "    <tr>\n",
       "      <th>372</th>\n",
       "      <td>24309</td>\n",
       "      <td>4</td>\n",
       "    </tr>\n",
       "    <tr>\n",
       "      <th>373</th>\n",
       "      <td>24319</td>\n",
       "      <td>4</td>\n",
       "    </tr>\n",
       "    <tr>\n",
       "      <th>374</th>\n",
       "      <td>24329</td>\n",
       "      <td>4</td>\n",
       "    </tr>\n",
       "  </tbody>\n",
       "</table>\n",
       "<p>375 rows × 2 columns</p>\n",
       "</div>"
      ],
      "text/plain": [
       "     measurement  label\n",
       "0          20589      1\n",
       "1          20599      1\n",
       "2          20609      1\n",
       "3          20619      1\n",
       "4          20629      1\n",
       "..           ...    ...\n",
       "370        24289      4\n",
       "371        24299      4\n",
       "372        24309      4\n",
       "373        24319      4\n",
       "374        24329      4\n",
       "\n",
       "[375 rows x 2 columns]"
      ]
     },
     "execution_count": 6,
     "metadata": {},
     "output_type": "execute_result"
    }
   ],
   "source": [
    "tr_lab"
   ]
  },
  {
   "cell_type": "code",
   "execution_count": 7,
   "metadata": {},
   "outputs": [
    {
     "data": {
      "text/html": [
       "<div>\n",
       "<style scoped>\n",
       "    .dataframe tbody tr th:only-of-type {\n",
       "        vertical-align: middle;\n",
       "    }\n",
       "\n",
       "    .dataframe tbody tr th {\n",
       "        vertical-align: top;\n",
       "    }\n",
       "\n",
       "    .dataframe thead th {\n",
       "        text-align: right;\n",
       "    }\n",
       "</style>\n",
       "<table border=\"1\" class=\"dataframe\">\n",
       "  <thead>\n",
       "    <tr style=\"text-align: right;\">\n",
       "      <th></th>\n",
       "      <th>measurement</th>\n",
       "      <th>x</th>\n",
       "      <th>y</th>\n",
       "      <th>z</th>\n",
       "    </tr>\n",
       "  </thead>\n",
       "  <tbody>\n",
       "    <tr>\n",
       "      <th>3739</th>\n",
       "      <td>24325</td>\n",
       "      <td>-0.433313</td>\n",
       "      <td>0.652926</td>\n",
       "      <td>-0.154320</td>\n",
       "    </tr>\n",
       "    <tr>\n",
       "      <th>3740</th>\n",
       "      <td>24326</td>\n",
       "      <td>0.736537</td>\n",
       "      <td>-0.208107</td>\n",
       "      <td>-0.284082</td>\n",
       "    </tr>\n",
       "    <tr>\n",
       "      <th>3741</th>\n",
       "      <td>24327</td>\n",
       "      <td>0.438839</td>\n",
       "      <td>0.081464</td>\n",
       "      <td>-0.136049</td>\n",
       "    </tr>\n",
       "    <tr>\n",
       "      <th>3742</th>\n",
       "      <td>24328</td>\n",
       "      <td>-0.070630</td>\n",
       "      <td>0.448729</td>\n",
       "      <td>-0.098726</td>\n",
       "    </tr>\n",
       "    <tr>\n",
       "      <th>3743</th>\n",
       "      <td>24329</td>\n",
       "      <td>1.247394</td>\n",
       "      <td>0.031505</td>\n",
       "      <td>-0.141008</td>\n",
       "    </tr>\n",
       "  </tbody>\n",
       "</table>\n",
       "</div>"
      ],
      "text/plain": [
       "      measurement         x         y         z\n",
       "3739        24325 -0.433313  0.652926 -0.154320\n",
       "3740        24326  0.736537 -0.208107 -0.284082\n",
       "3741        24327  0.438839  0.081464 -0.136049\n",
       "3742        24328 -0.070630  0.448729 -0.098726\n",
       "3743        24329  1.247394  0.031505 -0.141008"
      ]
     },
     "execution_count": 7,
     "metadata": {},
     "output_type": "execute_result"
    }
   ],
   "source": [
    "#Standardise X,Y,Z accels\n",
    "std = preprocessing.StandardScaler()\n",
    "for k in [\"x\", \"y\", \"z\"]:\n",
    "    tr_time[k] = std.fit_transform(tr_time[k].values.reshape(-1,1))\n",
    "tr_time.tail()"
   ]
  },
  {
   "cell_type": "code",
   "execution_count": 25,
   "metadata": {},
   "outputs": [],
   "source": [
    "def accel_mag(accels):\n",
    "    \"\"\"takes an array containing x,y,z accelerations, calculates their magnitude\"\"\"\n",
    "    return np.sqrt(np.sum(accels**2))\n",
    "\n",
    "def accel_var(accels):\n",
    "    \"\"\"takes an array containing unidirectional accelaration, calculates and returns the variance\"\"\"\n",
    "    return np.var(accels)\n",
    "\n",
    "def calc_energy(accels, num_observations=10):\n",
    "    \"\"\"\"\"\"\n",
    "    return (np.sum(accels**2)/3)\n",
    "            "
   ]
  },
  {
   "cell_type": "code",
   "execution_count": 26,
   "metadata": {},
   "outputs": [],
   "source": [
    "#if the above doesn't work aggregate the x's, the y's, the z's togehter - maybe use a sum or mean? then use x, y,z as input X for machine learning\n",
    "previous = 0\n",
    "\n",
    "for i in tr_lab.measurement:\n",
    "    \n",
    "    \n",
    "    boolinds = pd.Series((tr_time.measurement.values <= i) & (tr_time.measurement.values > previous))\n",
    "    num_observations = sum(boolinds)\n",
    "    step = tr_time[boolinds.values]\n",
    "\n",
    "    #calculate some values of x, y, z from the step\n",
    "\n",
    "    sums = []\n",
    "    means = []\n",
    "    abs_sums = []\n",
    "    abs_means = []\n",
    "\n",
    "\n",
    "    for j in [\"x\", \"y\", \"z\"]:\n",
    "        accel_sum = np.sum(step[j].values)\n",
    "        sums.append(accel_sum)\n",
    "        accel_mean = np.mean(step[j].values)\n",
    "        means.append(accel_mean)\n",
    "        abs_sum = np.sum(np.absolute(step[j].values))\n",
    "        abs_sums.append(abs_sum)\n",
    "        abs_mean = np.mean(np.absolute(step[j].values))\n",
    "        abs_means.append(abs_mean)\n",
    "\n",
    "    tr_lab.loc[tr_lab.measurement == i, \"x_sum\"] = sums[0]\n",
    "    tr_lab.loc[tr_lab.measurement == i, \"y_sum\"] = sums[1]\n",
    "    tr_lab.loc[tr_lab.measurement == i, \"z_sum\"] = sums[2]\n",
    "    tr_lab.loc[tr_lab.measurement == i, \"x_mean\"] = means[0]\n",
    "    tr_lab.loc[tr_lab.measurement == i, \"y_mean\"] = means[1]\n",
    "    tr_lab.loc[tr_lab.measurement == i, \"z_mean\"] = means[2]\n",
    "    tr_lab.loc[tr_lab.measurement == i, \"x_abs_sum\"] = abs_sums[0]\n",
    "    tr_lab.loc[tr_lab.measurement == i, \"y_abs_sum\"] = abs_sums[1]\n",
    "    tr_lab.loc[tr_lab.measurement == i, \"z_abs_sum\"] = abs_sums[2]\n",
    "    tr_lab.loc[tr_lab.measurement == i, \"x_abs_mean\"] = abs_means[0]\n",
    "    tr_lab.loc[tr_lab.measurement == i, \"y_abs_mean\"] = abs_means[1]\n",
    "    tr_lab.loc[tr_lab.measurement == i, \"z_abs_mean\"] = abs_means[2]\n",
    "\n",
    "\n",
    "    #calculate magnitude of acceleration and variation of acceleration for the step - maybe delete later    \n",
    "    accels = step.loc[:,(\"x\",\"y\",\"z\")]\n",
    "    mags = accels.apply(accel_mag, axis=\"columns\")\n",
    "    tr_lab.loc[tr_lab.measurement == i, \"sum_accel_mag\"] = np.sum(mags)\n",
    "    tr_lab.loc[tr_lab.measurement == i, \"mean_accel_mag\"] = np.mean(mags)\n",
    "    \n",
    "    tr_lab.loc[tr_lab.measurement == i, \"var_x\"] = accel_var(accels.x)\n",
    "    tr_lab.loc[tr_lab.measurement == i, \"var_y\"] = accel_var(accels.y)\n",
    "    tr_lab.loc[tr_lab.measurement == i, \"var_z\"] = accel_var(accels.z)\n",
    "    tr_lab.loc[tr_lab.measurement == i, \"var_mag\"] = accel_var(mags)\n",
    "    \n",
    "    energy = accels.apply(calc_energy, axis=\"columns\")/num_observations\n",
    "    tr_lab.loc[tr_lab.measurement == i, \"mean_energy\"] = np.mean(energy)\n",
    "    tr_lab.loc[tr_lab.measurement == i, \"sum_energy\"] = np.sum(energy)\n",
    "    \n",
    "    previous = i"
   ]
  },
  {
   "cell_type": "code",
   "execution_count": 27,
   "metadata": {},
   "outputs": [],
   "source": [
    "classification_target = 'label'\n",
    "all_covariates = ['x_abs_sum', 'y_abs_sum', 'z_abs_sum', 'sum_accel_mag', 'var_x','var_y', 'var_z', 'var_mag', 'mean_energy']\n",
    "\n",
    "X_train, X_test, y_train, y_test = train_test_split(tr_lab[all_covariates], tr_lab[classification_target])\n"
   ]
  },
  {
   "cell_type": "code",
   "execution_count": 28,
   "metadata": {},
   "outputs": [
    {
     "data": {
      "text/plain": [
       "{'n_neighbors': 10, 'weights': 'uniform'}"
      ]
     },
     "execution_count": 28,
     "metadata": {},
     "output_type": "execute_result"
    }
   ],
   "source": [
    "knn = KNeighborsClassifier()\n",
    "\n",
    "parameters = {\n",
    "    \"n_neighbors\":np.arange(0,100,5),\n",
    "    \"weights\":['uniform', 'distance']\n",
    "}\n",
    "\n",
    "cv = GridSearchCV(knn,parameters,cv=5)\n",
    "cv.fit(X_train,y_train)\n",
    "best_params = cv.best_params_ \n",
    "best_params"
   ]
  },
  {
   "cell_type": "code",
   "execution_count": 29,
   "metadata": {},
   "outputs": [
    {
     "data": {
      "text/plain": [
       "KNeighborsClassifier(n_neighbors=10)"
      ]
     },
     "execution_count": 29,
     "metadata": {},
     "output_type": "execute_result"
    }
   ],
   "source": [
    "#initialise the random forest model with best hyperparameters and train\n",
    "knn = KNeighborsClassifier(n_neighbors = best_params['n_neighbors'], weights = best_params['weights'])\n",
    "knn.fit(X_train, y_train)"
   ]
  },
  {
   "cell_type": "code",
   "execution_count": 30,
   "metadata": {},
   "outputs": [
    {
     "name": "stdout",
     "output_type": "stream",
     "text": [
      "Accuracy on training set: 0.694\n",
      "Accuracy on test set: 0.691\n"
     ]
    }
   ],
   "source": [
    "print(\"Accuracy on training set: {:.3f}\".format(knn.score(X_train, y_train)))\n",
    "print(\"Accuracy on test set: {:.3f}\".format(knn.score(X_test, y_test)))"
   ]
  },
  {
   "cell_type": "code",
   "execution_count": 17,
   "metadata": {},
   "outputs": [
    {
     "ename": "SyntaxError",
     "evalue": "invalid syntax (<ipython-input-17-c1cef89704da>, line 1)",
     "output_type": "error",
     "traceback": [
      "\u001b[1;36m  File \u001b[1;32m\"<ipython-input-17-c1cef89704da>\"\u001b[1;36m, line \u001b[1;32m1\u001b[0m\n\u001b[1;33m    fig, axes = plt.subplots(1, 3, figsize=(10, 3))for n_neighbors, ax in zip([1, 3, 9], axes):# the fit method returns the object self, so we can instantiate# and fit in one line    clf = KNeighborsClassifier(n_neighbors=n_neighbors).fit(X, y)mglearn.plots.plot_2d_separator(clf, X, fill=True, eps=0.5, ax=ax, alpha=.4)mglearn.discrete_scatter(X[:, 0], X[:, 1], y, ax=ax)ax.set_title(\"{} neighbor(s)\".format(n_neighbors))ax.set_xlabel(\"feature 0\")    ax.set_ylabel(\"feature 1\")axes[0].legend(loc=3)\u001b[0m\n\u001b[1;37m                                                   ^\u001b[0m\n\u001b[1;31mSyntaxError\u001b[0m\u001b[1;31m:\u001b[0m invalid syntax\n"
     ]
    }
   ],
   "source": []
  },
  {
   "cell_type": "code",
   "execution_count": null,
   "metadata": {},
   "outputs": [],
   "source": []
  },
  {
   "cell_type": "code",
   "execution_count": null,
   "metadata": {},
   "outputs": [],
   "source": []
  }
 ],
 "metadata": {
  "kernelspec": {
   "display_name": "Python 3",
   "language": "python",
   "name": "python3"
  },
  "language_info": {
   "codemirror_mode": {
    "name": "ipython",
    "version": 3
   },
   "file_extension": ".py",
   "mimetype": "text/x-python",
   "name": "python",
   "nbconvert_exporter": "python",
   "pygments_lexer": "ipython3",
   "version": "3.8.3"
  }
 },
 "nbformat": 4,
 "nbformat_minor": 4
}
